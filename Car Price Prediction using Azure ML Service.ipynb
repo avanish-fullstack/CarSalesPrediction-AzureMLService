{
 "cells": [
  {
   "cell_type": "code",
   "execution_count": 2,
   "metadata": {},
   "outputs": [
    {
     "name": "stderr",
     "output_type": "stream",
     "text": [
      "C:\\Users\\avani\\AnacondaLatest\\lib\\site-packages\\sklearn\\externals\\joblib\\__init__.py:15: DeprecationWarning: sklearn.externals.joblib is deprecated in 0.21 and will be removed in 0.23. Please import this functionality directly from joblib, which can be installed with: pip install joblib. If this warning is raised when loading pickled models, you may need to re-serialize those models with scikit-learn 0.21+.\n",
      "  warnings.warn(msg, category=DeprecationWarning)\n"
     ]
    }
   ],
   "source": [
    "import pickle\n",
    "from sklearn.externals import joblib"
   ]
  },
  {
   "cell_type": "code",
   "execution_count": 3,
   "metadata": {},
   "outputs": [],
   "source": [
    "import azureml.core\n",
    "from azureml.core import Workspace\n",
    "from azureml.core.compute import AmlCompute\n",
    "from azureml.core.compute import ComputeTarget\n",
    "from azureml.core.model import Model\n",
    "from azureml.core.image import ContainerImage\n",
    "from azureml.core.webservice import AciWebservice, Webservice\n",
    "from azureml.core.conda_dependencies import CondaDependencies\n",
    "from azureml.core.experiment import Experiment"
   ]
  },
  {
   "cell_type": "code",
   "execution_count": 4,
   "metadata": {},
   "outputs": [
    {
     "name": "stderr",
     "output_type": "stream",
     "text": [
      "UserWarning: The resource group doesn't exist or was not provided. AzureML SDK is creating a resource group=MLRG in location=eastus2 using subscription=f2b88417-9c48-445d-887f-f79b1cd095fb.\n"
     ]
    },
    {
     "name": "stdout",
     "output_type": "stream",
     "text": [
      "Deploying StorageAccount with name regresiostoragef5f55c836.\n",
      "Deploying KeyVault with name regresiokeyvault8c7964e7.\n",
      "Deploying AppInsights with name regresioinsights0a34632e.\n",
      "Deployed AppInsights with name regresioinsights0a34632e. Took 13.31 seconds.\n",
      "Deployed KeyVault with name regresiokeyvault8c7964e7. Took 26.78 seconds.\n",
      "Deployed StorageAccount with name regresiostoragef5f55c836. Took 48.18 seconds.\n",
      "Deploying Workspace with name RegresionModelsWS.\n",
      "Deployed Workspace with name RegresionModelsWS. Took 117.23 seconds.\n"
     ]
    }
   ],
   "source": [
    "# create workspace\n",
    "ws = Workspace.create(name = \"RegresionModelsWS\" , \n",
    "                     subscription_id = 'f2b88417-9c48-445d-887f-f79b1cd095fb',\n",
    "                     resource_group = 'MLRG',\n",
    "                     create_resource_group = True,\n",
    "                     location = 'eastus2')"
   ]
  },
  {
   "cell_type": "code",
   "execution_count": 5,
   "metadata": {},
   "outputs": [],
   "source": [
    "# write workspace to local configuration file\n",
    "ws.write_config()"
   ]
  },
  {
   "cell_type": "code",
   "execution_count": 6,
   "metadata": {},
   "outputs": [],
   "source": [
    "ws = Workspace.from_config()"
   ]
  },
  {
   "cell_type": "code",
   "execution_count": 7,
   "metadata": {},
   "outputs": [
    {
     "data": {
      "text/plain": [
       "{'id': '/subscriptions/f2b88417-9c48-445d-887f-f79b1cd095fb/resourceGroups/MLRG/providers/Microsoft.MachineLearningServices/workspaces/RegresionModelsWS',\n",
       " 'name': 'RegresionModelsWS',\n",
       " 'location': 'eastus2',\n",
       " 'type': 'Microsoft.MachineLearningServices/workspaces',\n",
       " 'sku': 'Basic',\n",
       " 'workspaceid': 'bed9e090-2c97-444e-9cef-a7d349abee05',\n",
       " 'description': '',\n",
       " 'friendlyName': 'RegresionModelsWS',\n",
       " 'creationTime': '2020-02-08T18:42:18.4207867+00:00',\n",
       " 'keyVault': '/subscriptions/f2b88417-9c48-445d-887f-f79b1cd095fb/resourcegroups/mlrg/providers/microsoft.keyvault/vaults/regresiokeyvault8c7964e7',\n",
       " 'applicationInsights': '/subscriptions/f2b88417-9c48-445d-887f-f79b1cd095fb/resourcegroups/mlrg/providers/microsoft.insights/components/regresioinsights0a34632e',\n",
       " 'identityPrincipalId': '16b6fc11-f06f-4e6d-9efd-42999ea0855f',\n",
       " 'identityTenantId': '8b3dd73e-4e72-4679-b191-56da1588712b',\n",
       " 'identityType': 'SystemAssigned',\n",
       " 'storageAccount': '/subscriptions/f2b88417-9c48-445d-887f-f79b1cd095fb/resourcegroups/mlrg/providers/microsoft.storage/storageaccounts/regresiostoragef5f55c836',\n",
       " 'hbiWorkspace': False}"
      ]
     },
     "execution_count": 7,
     "metadata": {},
     "output_type": "execute_result"
    }
   ],
   "source": [
    "ws.get_details()"
   ]
  },
  {
   "cell_type": "code",
   "execution_count": 8,
   "metadata": {},
   "outputs": [],
   "source": [
    "# create azure ml experiment\n",
    "exp = Experiment(workspace = ws , name = \"CarPredictionExp\")"
   ]
  },
  {
   "cell_type": "code",
   "execution_count": 9,
   "metadata": {},
   "outputs": [],
   "source": [
    "import datetime\n",
    "# start loggin metrics\n",
    "run = exp.start_logging()\n",
    "run.log(\"Experiment start time\", str(datetime.datetime.now))"
   ]
  },
  {
   "cell_type": "code",
   "execution_count": 12,
   "metadata": {},
   "outputs": [
    {
     "data": {
      "text/plain": [
       "['outputs/cars_pred_model.pkl']"
      ]
     },
     "execution_count": 12,
     "metadata": {},
     "output_type": "execute_result"
    }
   ],
   "source": [
    "#create a test model, register in workspace\n",
    "from sklearn.linear_model import LinearRegression\n",
    "from sklearn.externals import joblib\n",
    "import numpy as np\n",
    "import pandas as pd\n",
    "\n",
    "datadf = pd.read_csv('carage_price.csv')\n",
    "\n",
    "X_train = datadf[['Age']]\n",
    "y_train = datadf['Price']\n",
    "\n",
    "reg = LinearRegression()\n",
    "reg.fit(X_train,y_train)\n",
    "\n",
    "joblib.dump(value = reg, filename=\"outputs/cars_pred_model.pkl\")"
   ]
  },
  {
   "cell_type": "code",
   "execution_count": 13,
   "metadata": {},
   "outputs": [
    {
     "name": "stdout",
     "output_type": "stream",
     "text": [
      "[11206.66666667]\n"
     ]
    }
   ],
   "source": [
    "# test the model\n",
    "loaded_model = joblib.load(\"outputs/cars_pred_model.pkl\")\n",
    "y = loaded_model.predict([[10]])\n",
    "print(y)"
   ]
  },
  {
   "cell_type": "code",
   "execution_count": 14,
   "metadata": {},
   "outputs": [],
   "source": [
    "# log some data for fun\n",
    "run.log(\"intercept\", loaded_model.intercept_)"
   ]
  },
  {
   "cell_type": "code",
   "execution_count": 15,
   "metadata": {},
   "outputs": [],
   "source": [
    "# end the experiment\n",
    "run.log(\"Experiment end time\", str(datetime.datetime.now))\n",
    "run.complete()"
   ]
  },
  {
   "cell_type": "code",
   "execution_count": 16,
   "metadata": {},
   "outputs": [
    {
     "name": "stdout",
     "output_type": "stream",
     "text": [
      "Registering model cars_pred_model\n"
     ]
    }
   ],
   "source": [
    "# register the model\n",
    "from azureml.core.model import Model\n",
    "model = Model.register(workspace = ws , model_path=\"outputs/cars_pred_model.pkl\", model_name=\"cars_pred_model\")"
   ]
  },
  {
   "cell_type": "code",
   "execution_count": 17,
   "metadata": {},
   "outputs": [],
   "source": [
    "# define azure ml deployment configuration\n",
    "aciconfig = AciWebservice.deploy_configuration(cpu_cores = 1 , memory_gb = 1 , \n",
    "                                              tags = {'data': 'car prices'},\n",
    "                                              description = 'Cars prediction model deployment')"
   ]
  },
  {
   "cell_type": "code",
   "execution_count": 18,
   "metadata": {},
   "outputs": [
    {
     "name": "stdout",
     "output_type": "stream",
     "text": [
      "# Conda environment specification. The dependencies defined in this file will\n",
      "\n",
      "# be automatically provisioned for runs with userManagedDependencies=False.\n",
      "\n",
      "\n",
      "# Details about the Conda environment file format:\n",
      "\n",
      "# https://conda.io/docs/user-guide/tasks/manage-environments.html#create-env-file-manually\n",
      "\n",
      "\n",
      "name: project_environment\n",
      "dependencies:\n",
      "  # The python interpreter version.\n",
      "\n",
      "  # Currently Azure ML only supports 3.5.2 and later.\n",
      "\n",
      "- python=3.6.2\n",
      "\n",
      "- pip:\n",
      "    # Required packages for AzureML execution, history, and data preparation.\n",
      "\n",
      "  - azureml-defaults\n",
      "\n",
      "- scikit-learn=0.21.2\n",
      "channels:\n",
      "- conda-forge\n",
      "\n"
     ]
    }
   ],
   "source": [
    "# create environment confoiguration file\n",
    "model_env = CondaDependencies()\n",
    "model_env.add_conda_package(\"scikit-learn=0.21.2\")\n",
    "\n",
    "with open(\"model_env.yml\", \"w\") as f :\n",
    "    f.write(model_env.serialize_to_string())\n",
    "    \n",
    "with open(\"model_env.yml\", \"r\") as f:\n",
    "    print(f.read())"
   ]
  },
  {
   "cell_type": "code",
   "execution_count": 19,
   "metadata": {},
   "outputs": [
    {
     "name": "stdout",
     "output_type": "stream",
     "text": [
      "Overwriting score.py\n"
     ]
    }
   ],
   "source": [
    "%%writefile score.py\n",
    "import json\n",
    "import numpy as np\n",
    "import os \n",
    "import pickle\n",
    "from sklearn.externals import joblib\n",
    "from azureml.core.model import Model\n",
    "\n",
    "def init():\n",
    "    global model\n",
    "    model_path = Model.get_model_path('cars_pred_model')\n",
    "    model = joblib.load(model_path)\n",
    "    \n",
    "def run(raw_data):\n",
    "    data = np.array(json.loads(raw_data)['data'])\n",
    "    \n",
    "    y_pred = model.predict(data)\n",
    "    return json.dumps(y_pred.tolist())"
   ]
  },
  {
   "cell_type": "code",
   "execution_count": 22,
   "metadata": {},
   "outputs": [
    {
     "name": "stderr",
     "output_type": "stream",
     "text": [
      "C:\\Users\\avani\\AnacondaLatest\\lib\\site-packages\\ipykernel_launcher.py:3: DeprecationWarning: ContainerImage class has been deprecated and will be removed in a future release. Please migrate to using Environments. https://docs.microsoft.com/en-us/azure/machine-learning/how-to-use-environments\n",
      "  This is separate from the ipykernel package so we can avoid doing imports until\n"
     ]
    }
   ],
   "source": [
    "# deploy model to azure container instance\n",
    "image_config = ContainerImage.image_configuration(execution_script = \"score.py\" , runtime = \"python\" , \n",
    "                                                  conda_file= \"model_env.yml\")"
   ]
  },
  {
   "cell_type": "code",
   "execution_count": 23,
   "metadata": {},
   "outputs": [
    {
     "name": "stderr",
     "output_type": "stream",
     "text": [
      "C:\\Users\\avani\\AnacondaLatest\\lib\\site-packages\\ipykernel_launcher.py:6: DeprecationWarning: deploy_from_model has been deprecated and will be removed in a future release. Please migrate to using Environments. https://docs.microsoft.com/en-us/azure/machine-learning/how-to-use-environments\n",
      "  \n"
     ]
    },
    {
     "name": "stdout",
     "output_type": "stream",
     "text": [
      "Creating image\n",
      "Running................................\n",
      "Succeeded\n",
      "Image creation operation finished for image test-svc1carpricepredictor-svc:1, operation \"Succeeded\"\n",
      "Running.............\n",
      "Succeeded\n",
      "ACI service creation operation finished, operation \"Succeeded\"\n"
     ]
    }
   ],
   "source": [
    "# expose web service\n",
    "service = Webservice.deploy_from_model(workspace = ws , \n",
    "                                      name = \"test-svc1carpricepredictor-svc\",\n",
    "                                      deployment_config = aciconfig,\n",
    "                                      models = [model],\n",
    "                                      image_config = image_config)\n",
    "service.wait_for_deployment(show_output = True)"
   ]
  },
  {
   "cell_type": "code",
   "execution_count": 24,
   "metadata": {},
   "outputs": [
    {
     "name": "stdout",
     "output_type": "stream",
     "text": [
      "http://ae965d61-80e8-4fad-b0e4-d4d65b77df4d.eastus2.azurecontainer.io/score\n"
     ]
    }
   ],
   "source": [
    "# get seb service url\n",
    "print(service.scoring_uri)"
   ]
  },
  {
   "cell_type": "code",
   "execution_count": 29,
   "metadata": {},
   "outputs": [],
   "source": [
    "import requests\n",
    "url = 'http://ae965d61-80e8-4fad-b0e4-d4d65b77df4d.eastus2.azurecontainer.io/score'\n",
    "payload = '{\"data\": [[10]]}'\n",
    "headers = {'content-type': 'application/json'}\n",
    "response = requests.post(url, data=payload, headers=headers)"
   ]
  },
  {
   "cell_type": "code",
   "execution_count": 30,
   "metadata": {},
   "outputs": [
    {
     "name": "stdout",
     "output_type": "stream",
     "text": [
      "\"[11206.666666666668]\"\n"
     ]
    }
   ],
   "source": [
    "print (response.text)"
   ]
  }
 ],
 "metadata": {
  "kernelspec": {
   "display_name": "Python 3",
   "language": "python",
   "name": "python3"
  },
  "language_info": {
   "codemirror_mode": {
    "name": "ipython",
    "version": 3
   },
   "file_extension": ".py",
   "mimetype": "text/x-python",
   "name": "python",
   "nbconvert_exporter": "python",
   "pygments_lexer": "ipython3",
   "version": "3.7.3"
  }
 },
 "nbformat": 4,
 "nbformat_minor": 2
}
